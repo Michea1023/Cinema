{
 "cells": [
  {
   "attachments": {},
   "cell_type": "markdown",
   "id": "b5807bb8",
   "metadata": {},
   "source": [
    "# ETL: BUSINESS INTELLIGENCE"
   ]
  },
  {
   "cell_type": "code",
   "execution_count": 2,
   "id": "314e59f4",
   "metadata": {},
   "outputs": [],
   "source": [
    "import pandas as pd"
   ]
  },
  {
   "attachments": {},
   "cell_type": "markdown",
   "id": "e3340623",
   "metadata": {},
   "source": [
    "# 1. Carga de Datos"
   ]
  },
  {
   "cell_type": "code",
   "execution_count": 3,
   "id": "1a14e9a6",
   "metadata": {},
   "outputs": [
    {
     "name": "stderr",
     "output_type": "stream",
     "text": [
      "c:\\Users\\alama\\AppData\\Local\\Programs\\Python\\Python39\\lib\\site-packages\\IPython\\core\\interactiveshell.py:3444: DtypeWarning: Columns (4) have mixed types.Specify dtype option on import or set low_memory=False.\n",
      "  exec(code_obj, self.user_global_ns, self.user_ns)\n"
     ]
    }
   ],
   "source": [
    "nm      = pd.read_csv(\"Datasets/name_basics.tsv\", sep='\\t')         # name_basics\n",
    "tt      = pd.read_csv(\"Datasets/title_basics.tsv\", sep='\\t')        # title_basics\n",
    "rating  = pd.read_csv(\"Datasets/title_ratings.tsv\", sep='\\t')       # title_ratings\n",
    "tp      = pd.read_csv(\"Datasets/title_principals.tsv\", sep='\\t')    # title_principals"
   ]
  },
  {
   "cell_type": "code",
   "execution_count": 10,
   "id": "8f0fb974",
   "metadata": {},
   "outputs": [
    {
     "data": {
      "text/html": [
       "<div>\n",
       "<style scoped>\n",
       "    .dataframe tbody tr th:only-of-type {\n",
       "        vertical-align: middle;\n",
       "    }\n",
       "\n",
       "    .dataframe tbody tr th {\n",
       "        vertical-align: top;\n",
       "    }\n",
       "\n",
       "    .dataframe thead th {\n",
       "        text-align: right;\n",
       "    }\n",
       "</style>\n",
       "<table border=\"1\" class=\"dataframe\">\n",
       "  <thead>\n",
       "    <tr style=\"text-align: right;\">\n",
       "      <th></th>\n",
       "      <th>tconst</th>\n",
       "      <th>ordering</th>\n",
       "      <th>nconst</th>\n",
       "      <th>category</th>\n",
       "      <th>job</th>\n",
       "      <th>characters</th>\n",
       "    </tr>\n",
       "  </thead>\n",
       "  <tbody>\n",
       "    <tr>\n",
       "      <th>0</th>\n",
       "      <td>tt0000001</td>\n",
       "      <td>1</td>\n",
       "      <td>nm1588970</td>\n",
       "      <td>self</td>\n",
       "      <td>None</td>\n",
       "      <td>[\"Self\"]</td>\n",
       "    </tr>\n",
       "    <tr>\n",
       "      <th>1</th>\n",
       "      <td>tt0000001</td>\n",
       "      <td>2</td>\n",
       "      <td>nm0005690</td>\n",
       "      <td>director</td>\n",
       "      <td>None</td>\n",
       "      <td>None</td>\n",
       "    </tr>\n",
       "    <tr>\n",
       "      <th>2</th>\n",
       "      <td>tt0000001</td>\n",
       "      <td>3</td>\n",
       "      <td>nm0374658</td>\n",
       "      <td>cinematographer</td>\n",
       "      <td>director of photography</td>\n",
       "      <td>None</td>\n",
       "    </tr>\n",
       "    <tr>\n",
       "      <th>3</th>\n",
       "      <td>tt0000002</td>\n",
       "      <td>1</td>\n",
       "      <td>nm0721526</td>\n",
       "      <td>director</td>\n",
       "      <td>None</td>\n",
       "      <td>None</td>\n",
       "    </tr>\n",
       "    <tr>\n",
       "      <th>4</th>\n",
       "      <td>tt0000002</td>\n",
       "      <td>2</td>\n",
       "      <td>nm1335271</td>\n",
       "      <td>composer</td>\n",
       "      <td>None</td>\n",
       "      <td>None</td>\n",
       "    </tr>\n",
       "    <tr>\n",
       "      <th>...</th>\n",
       "      <td>...</td>\n",
       "      <td>...</td>\n",
       "      <td>...</td>\n",
       "      <td>...</td>\n",
       "      <td>...</td>\n",
       "      <td>...</td>\n",
       "    </tr>\n",
       "    <tr>\n",
       "      <th>55393270</th>\n",
       "      <td>tt9916880</td>\n",
       "      <td>4</td>\n",
       "      <td>nm10535738</td>\n",
       "      <td>actress</td>\n",
       "      <td>None</td>\n",
       "      <td>[\"Horrid Henry\"]</td>\n",
       "    </tr>\n",
       "    <tr>\n",
       "      <th>55393271</th>\n",
       "      <td>tt9916880</td>\n",
       "      <td>5</td>\n",
       "      <td>nm0996406</td>\n",
       "      <td>director</td>\n",
       "      <td>principal director</td>\n",
       "      <td>None</td>\n",
       "    </tr>\n",
       "    <tr>\n",
       "      <th>55393272</th>\n",
       "      <td>tt9916880</td>\n",
       "      <td>6</td>\n",
       "      <td>nm1482639</td>\n",
       "      <td>writer</td>\n",
       "      <td>None</td>\n",
       "      <td>None</td>\n",
       "    </tr>\n",
       "    <tr>\n",
       "      <th>55393273</th>\n",
       "      <td>tt9916880</td>\n",
       "      <td>7</td>\n",
       "      <td>nm2586970</td>\n",
       "      <td>writer</td>\n",
       "      <td>books</td>\n",
       "      <td>None</td>\n",
       "    </tr>\n",
       "    <tr>\n",
       "      <th>55393274</th>\n",
       "      <td>tt9916880</td>\n",
       "      <td>8</td>\n",
       "      <td>nm1594058</td>\n",
       "      <td>producer</td>\n",
       "      <td>producer</td>\n",
       "      <td>None</td>\n",
       "    </tr>\n",
       "  </tbody>\n",
       "</table>\n",
       "<p>55393275 rows × 6 columns</p>\n",
       "</div>"
      ],
      "text/plain": [
       "             tconst  ordering      nconst         category  \\\n",
       "0         tt0000001         1   nm1588970             self   \n",
       "1         tt0000001         2   nm0005690         director   \n",
       "2         tt0000001         3   nm0374658  cinematographer   \n",
       "3         tt0000002         1   nm0721526         director   \n",
       "4         tt0000002         2   nm1335271         composer   \n",
       "...             ...       ...         ...              ...   \n",
       "55393270  tt9916880         4  nm10535738          actress   \n",
       "55393271  tt9916880         5   nm0996406         director   \n",
       "55393272  tt9916880         6   nm1482639           writer   \n",
       "55393273  tt9916880         7   nm2586970           writer   \n",
       "55393274  tt9916880         8   nm1594058         producer   \n",
       "\n",
       "                              job        characters  \n",
       "0                            None          [\"Self\"]  \n",
       "1                            None              None  \n",
       "2         director of photography              None  \n",
       "3                            None              None  \n",
       "4                            None              None  \n",
       "...                           ...               ...  \n",
       "55393270                     None  [\"Horrid Henry\"]  \n",
       "55393271       principal director              None  \n",
       "55393272                     None              None  \n",
       "55393273                    books              None  \n",
       "55393274                 producer              None  \n",
       "\n",
       "[55393275 rows x 6 columns]"
      ]
     },
     "execution_count": 10,
     "metadata": {},
     "output_type": "execute_result"
    }
   ],
   "source": [
    "# nm\n",
    "# tt\n",
    "# rating\n",
    "tp"
   ]
  },
  {
   "attachments": {},
   "cell_type": "markdown",
   "id": "9947c008",
   "metadata": {},
   "source": [
    "# 2. Limpieza de Datos"
   ]
  },
  {
   "attachments": {},
   "cell_type": "markdown",
   "id": "84b4cfba",
   "metadata": {},
   "source": [
    "### 2.1. Estandarizacion"
   ]
  },
  {
   "cell_type": "code",
   "execution_count": 4,
   "id": "bd4c232f",
   "metadata": {},
   "outputs": [],
   "source": [
    "nm.replace({\"\\\\N\": None, \"Nan\": None}, inplace=True)\n",
    "tt.replace({\"\\\\N\": None, \"Nan\": None}, inplace=True)\n",
    "rating.replace({\"\\\\N\": None, \"Nan\": None}, inplace=True)\n",
    "tp.replace({\"\\\\N\": None, \"Nan\": None}, inplace=True)"
   ]
  },
  {
   "cell_type": "code",
   "execution_count": 14,
   "id": "5d8867ec",
   "metadata": {},
   "outputs": [
    {
     "data": {
      "text/plain": [
       "tconst               0\n",
       "ordering             0\n",
       "nconst               0\n",
       "category             0\n",
       "job           46312598\n",
       "characters    28528438\n",
       "dtype: int64"
      ]
     },
     "execution_count": 14,
     "metadata": {},
     "output_type": "execute_result"
    }
   ],
   "source": [
    "tp.isnull().sum()"
   ]
  },
  {
   "cell_type": "code",
   "execution_count": null,
   "id": "dfb097f6",
   "metadata": {},
   "outputs": [],
   "source": []
  }
 ],
 "metadata": {
  "kernelspec": {
   "display_name": "Python 3 (ipykernel)",
   "language": "python",
   "name": "python3"
  },
  "language_info": {
   "codemirror_mode": {
    "name": "ipython",
    "version": 3
   },
   "file_extension": ".py",
   "mimetype": "text/x-python",
   "name": "python",
   "nbconvert_exporter": "python",
   "pygments_lexer": "ipython3",
   "version": "3.9.0"
  }
 },
 "nbformat": 4,
 "nbformat_minor": 5
}
